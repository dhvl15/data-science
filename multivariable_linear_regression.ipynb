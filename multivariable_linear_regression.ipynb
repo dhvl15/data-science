{
  "nbformat": 4,
  "nbformat_minor": 0,
  "metadata": {
    "colab": {
      "provenance": [],
      "authorship_tag": "ABX9TyNMK3ZoanSBffG+2Fd7zxWb",
      "include_colab_link": true
    },
    "kernelspec": {
      "name": "python3",
      "display_name": "Python 3"
    },
    "language_info": {
      "name": "python"
    }
  },
  "cells": [
    {
      "cell_type": "markdown",
      "metadata": {
        "id": "view-in-github",
        "colab_type": "text"
      },
      "source": [
        "<a href=\"https://colab.research.google.com/github/dhvl15/data-science/blob/main/multivariable_linear_regression.ipynb\" target=\"_parent\"><img src=\"https://colab.research.google.com/assets/colab-badge.svg\" alt=\"Open In Colab\"/></a>"
      ]
    },
    {
      "cell_type": "markdown",
      "source": [
        "# Multivariable Linear Regression\n",
        "using multivariable linear regression to predict house prices in boston"
      ],
      "metadata": {
        "id": "S7ftDlRRzPEQ"
      }
    },
    {
      "cell_type": "code",
      "source": [],
      "metadata": {
        "id": "94zuir28zlN7"
      },
      "execution_count": null,
      "outputs": []
    }
  ]
}